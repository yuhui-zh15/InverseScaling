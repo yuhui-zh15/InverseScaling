{
 "cells": [
  {
   "cell_type": "code",
   "execution_count": 3,
   "metadata": {},
   "outputs": [],
   "source": [
    "import json\n",
    "\n",
    "data = json.load(open(\"original_data.jsonl\"))"
   ]
  },
  {
   "cell_type": "code",
   "execution_count": 9,
   "metadata": {},
   "outputs": [],
   "source": [
    "data_processed = []\n",
    "for item in data[\"request_states\"]:\n",
    "    item = item[\"instance\"]\n",
    "    question = item[\"input\"]\n",
    "    choices = [reference[\"output\"] for reference in item[\"references\"]]\n",
    "    answer = 0 if item[\"references\"][0][\"tags\"] == ['correct'] else 1\n",
    "    data_processed.append({\n",
    "        \"question\": question,\n",
    "        \"choices\": choices,\n",
    "        \"answer\": answer,\n",
    "    })\n",
    "\n",
    "with open(\"processed_data.jsonl\", \"w\") as f:\n",
    "    for item in data_processed:\n",
    "        f.write(json.dumps(item) + \"\\n\")"
   ]
  },
  {
   "cell_type": "code",
   "execution_count": 1,
   "metadata": {},
   "outputs": [],
   "source": [
    "# Analyze data difference"
   ]
  },
  {
   "cell_type": "code",
   "execution_count": 5,
   "metadata": {},
   "outputs": [],
   "source": [
    "import json\n",
    "\n",
    "data = json.load(open(\"original_zeroshot_davinci.jsonl\"))\n",
    "\n",
    "data_light = [json.loads(line) for line in open(\"dumps/results_100instances_prompt_zeroshot_openai_davinci_20230116_015628.jsonl\") if line.startswith(\"{\")]"
   ]
  },
  {
   "cell_type": "code",
   "execution_count": 17,
   "metadata": {},
   "outputs": [],
   "source": [
    "question2answer = {}\n",
    "question2ref = {}\n",
    "for item in data[\"request_states\"]:\n",
    "    question = item[\"instance\"][\"input\"]\n",
    "    completions = item[\"result\"][\"completions\"]\n",
    "    choice = completions[0][\"text\"]\n",
    "    question2answer[question] = [choice]\n",
    "    question2ref[question] = [item]\n",
    "\n",
    "for item in data_light:\n",
    "    question = item[\"data\"][\"question\"]\n",
    "    choice = item[\"completion\"]\n",
    "    question2answer[question].append(choice)\n",
    "    question2ref[question].append(item)"
   ]
  },
  {
   "cell_type": "code",
   "execution_count": 20,
   "metadata": {},
   "outputs": [
    {
     "name": "stdout",
     "output_type": "stream",
     "text": [
      "Lev Naumov does not play ___ ?\n",
      "[' A', ' B']\n",
      "{'instance': {'input': 'Lev Naumov does not play ___ ?', 'references': [{'output': 'piano', 'tags': []}, {'output': 'harp', 'tags': ['correct']}], 'split': 'test', 'id': 'id522'}, 'train_trial_index': 0, 'output_mapping': {'A': 'piano', 'B': 'harp'}, 'request': {'model': 'openai/davinci', 'embedding': False, 'prompt': 'The following are multiple choice questions (with answers) about common sense.\\n\\nQuestion: Lev Naumov does not play ___ ?\\nA. piano\\nB. harp\\nAnswer:', 'temperature': 0, 'num_completions': 1, 'top_k_per_token': 1, 'max_tokens': 1, 'stop_sequences': [], 'echo_prompt': False, 'top_p': 1, 'presence_penalty': 0, 'frequency_penalty': 0}, 'result': {'success': True, 'embedding': [], 'completions': [{'text': ' A', 'logprob': -1.0466944, 'tokens': [{'text': ' A', 'logprob': -1.0466944, 'top_logprobs': {' A': -1.0466944}}]}], 'cached': True, 'request_time': 1.4886655807495117, 'request_datetime': 1666752761}, 'num_train_instances': 0, 'prompt_truncated': False, 'num_conditioning_tokens': 0}\n",
      "{'prompt': 'The following are multiple choice questions (with answers) about common sense.\\n\\nQuestion: Lev Naumov does not play ___ ?\\nA. piano\\nB. harp\\nAnswer:', 'success': True, 'completion': ' B', 'top_tokens': [[[' B', -1.0361801], [' A', -1.0615022], [' C', -2.3133218], [' Lev', -3.4448447], [' D', -3.7138953], [' (', -3.8260934], [' \"', -4.2031875], ['\\n', -4.6894627], [' ', -4.8982787], [' a', -5.0781684], [' The', -5.1756644], ['\\xa0', -5.414987], ['A', -5.5957117], ['B', -5.679555], [' He', -5.8798075], [' It', -6.2081885], [' This', -6.2652082], [' Na', -6.347961], [' b', -6.3587413], [' None', -6.490331], [\" '\", -6.8890467], [' __', -6.9525404], [' 1', -6.999811], [' Both', -7.0010433], [' Neither', -7.0170145], ['\\n\\n', -7.033036], [' ___', -7.046743], [' There', -7.0655665], [' -', -7.085441], [' 2', -7.096259], [' In', -7.150457], [' Answer', -7.152398], [' Not', -7.170277], ['C', -7.174758], [' [', -7.216809], [' _', -7.2224474], [' Piano', -7.300357], [' If', -7.3790927], [' All', -7.392993], [' No', -7.4979963], [' the', -7.5411296], [' c', -7.568261], [' piano', -7.5716734], ['bytes: \\\\xe2\\\\x80', -7.576643], [' What', -7.5888305], [' As', -7.59604], [' he', -7.647559], [' none', -7.655294], [' We', -7.6658463], [' E', -7.69383]]], 'data': {'question': 'Lev Naumov does not play ___ ?', 'choices': ['piano', 'harp'], 'answer': 1, 'prompt': 'The following are multiple choice questions (with answers) about common sense.\\n\\nQuestion: Lev Naumov does not play ___ ?\\nA. piano\\nB. harp\\nAnswer:'}}\n",
      "----------------------------------------------------------------\n",
      "The native language of Louis Barthou is not ___ ?\n",
      "[' A', ' B']\n",
      "{'instance': {'input': 'The native language of Louis Barthou is not ___ ?', 'references': [{'output': 'french', 'tags': []}, {'output': 'mortar', 'tags': ['correct']}], 'split': 'test', 'id': 'id572'}, 'train_trial_index': 0, 'output_mapping': {'A': 'french', 'B': 'mortar'}, 'request': {'model': 'openai/davinci', 'embedding': False, 'prompt': 'The following are multiple choice questions (with answers) about common sense.\\n\\nQuestion: The native language of Louis Barthou is not ___ ?\\nA. french\\nB. mortar\\nAnswer:', 'temperature': 0, 'num_completions': 1, 'top_k_per_token': 1, 'max_tokens': 1, 'stop_sequences': [], 'echo_prompt': False, 'top_p': 1, 'presence_penalty': 0, 'frequency_penalty': 0}, 'result': {'success': True, 'embedding': [], 'completions': [{'text': ' A', 'logprob': -1.1806197, 'tokens': [{'text': ' A', 'logprob': -1.1806197, 'top_logprobs': {' A': -1.1806197}}]}], 'cached': True, 'request_time': 0.26840710639953613, 'request_datetime': 1666752770}, 'num_train_instances': 0, 'prompt_truncated': False, 'num_conditioning_tokens': 0}\n",
      "{'prompt': 'The following are multiple choice questions (with answers) about common sense.\\n\\nQuestion: The native language of Louis Barthou is not ___ ?\\nA. french\\nB. mortar\\nAnswer:', 'success': True, 'completion': ' B', 'top_tokens': [[[' B', -1.1808214], [' A', -1.1926165], [' C', -2.4504976], [' (', -3.3583994], [' D', -3.3818789], [' \"', -3.9523363], [' The', -3.9543924], [' Louis', -4.2570505], ['\\n', -4.3067484], [' a', -4.4619226], [' ', -4.598542], [' b', -4.96119], ['A', -5.059207], [' It', -5.180455], [' This', -5.331361], ['\\xa0', -5.392779], ['B', -5.573529], [' French', -5.583661], [' None', -5.7396593], [' c', -5.8126917], [' Not', -5.874909], [' In', -6.07224], [' He', -6.115144], [' the', -6.1218348], [' Neither', -6.2395177], [' Common', -6.2743883], [' Correct', -6.4613347], [' Yes', -6.467208], [' Both', -6.4807673], [' ___', -6.5657434], [\" '\", -6.5917935], ['C', -6.620576], [' -', -6.6665673], [' There', -6.668956], ['\\n\\n', -6.6720624], [' No', -6.676457], [' Answer', -6.756078], [' __', -6.807324], [' As', -6.8147078], [' If', -6.8354726], [' 1', -6.8611283], [' french', -6.8725557], [' [', -6.88387], [' We', -6.965867], [' it', -7.0506067], [' What', -7.060562], [' Although', -7.0739446], [' You', -7.083939], [' d', -7.1108785], [' False', -7.1225057]]], 'data': {'question': 'The native language of Louis Barthou is not ___ ?', 'choices': ['french', 'mortar'], 'answer': 1, 'prompt': 'The following are multiple choice questions (with answers) about common sense.\\n\\nQuestion: The native language of Louis Barthou is not ___ ?\\nA. french\\nB. mortar\\nAnswer:'}}\n",
      "----------------------------------------------------------------\n"
     ]
    }
   ],
   "source": [
    "# show the difference\n",
    "for question, choices in question2answer.items():\n",
    "    if choices[0] != choices[1]:\n",
    "        print(question)\n",
    "        print(choices)\n",
    "        print(question2ref[question][0])\n",
    "        print(question2ref[question][1])\n",
    "        print(\"-\" * 64)"
   ]
  },
  {
   "cell_type": "code",
   "execution_count": 10,
   "metadata": {},
   "outputs": [
    {
     "name": "stdout",
     "output_type": "stream",
     "text": [
      "Eden Roc Renaissance Hotel Miami Beach is not a  ? & [hotel, download] & 1 \\\\\n",
      "The Betty Hutton Show was not originally aired on  ? & [youtube, cbs] & 0 \\\\\n",
      "Hot 8 Brass Band does not play  music ? & [jazz, friedrich] & 1 \\\\\n",
      "Crying is not part of ? & [life, love] & 1 \\\\\n",
      "Melbourne International Film Festival is not located in  ? & [april, melbourne] & 0 \\\\\n",
      "Mitsubishi G4M is not developed by  ? & [mitsubishi, vinci] & 1 \\\\\n",
      "A man grows flowers in the winter using his greenhouse. The flowers blossom there, despite the cold, freezing weather and lack of sunshine, not because & [they are regularly chilled, they are carefully protected] & 0 \\\\\n",
      "The main reason people want to use wind as an energy source is not because there is & [make cookies, an everlasting supply] & 0 \\\\\n",
      "A light isn't refracted when & [it shines at a mirror, it shines at a gem] & 0 \\\\\n",
      "John Selden did not die in  ? & [manila, london] & 0 \\\\\n",
      "adenine does not consist of  ? & [chocolate, nitrogen] & 0 \\\\\n",
      "Kolkata Book Fair is not located in  ? & [chinatown, kolkata] & 0 \\\\\n",
      "Fall is not ? & [coming, fearing] & 1 \\\\\n",
      "Maurice Joly is not a  by profession ? & [barrister, lawyer] & 0 \\\\\n",
      "Sojitra is not a  ? & [village, town] & 1 \\\\\n",
      "Avoiding the use of fossil fuel is not an example of & [Ecosystem Vulnerability, Conservationism] & 0 \\\\\n",
      "The native language of Jean-Paul Sartre is not  ? & [french, greek] & 1 \\\\\n",
      "Birds cannot ? & [fly, ulster] & 1 \\\\\n",
      "Worms are excellent decomposers not because & [worms enjoy eating dirt and decay, they enjoy eating carcasses and expel waste back to earth] & 0 \\\\\n",
      "The capital of Azerbaijan is not  ? & [baku, kidnapped] & 1 \\\\\n",
      "An electric car uses less gasoline than a regular car not because & [gas is unable to be used, power is prioritized over gas] & 0 \\\\\n",
      "chicken nugget does not consist of  ? & [beef, chicken] & 0 \\\\\n",
      "The native language of Eugene Kaspersky is not  ? & [russian, korean] & 1 \\\\\n",
      "Digital Audio Tape is not owned by  ? & [sony, parsons] & 1 \\\\\n",
      "Lizards do not have a ? & [tail, song] & 1 \\\\\n",
      "When the moon, sun, and earth line up, tides aren't at their & [Happy, Max] & 0 \\\\\n",
      "Jean Nicolas Pierre Hachette did not die in  ? & [navarro, paris] & 0 \\\\\n",
      "Rottendorf is not located in  ? & [germany, croatia] & 1 \\\\\n",
      "David Sainsbury, Baron Sainsbury of Turville never worked in  ? & [london, director] & 1 \\\\\n",
      "ground beef is not a subclass of  ? & [beef, pigs] & 1 \\\\\n",
      "President of Ireland is not a legal term in  ? & [irish, ireland] & 0 \\\\\n",
      "The official language of Ruovesi is not  ? & [wrestled, finnish] & 0 \\\\\n",
      "A creature can hide in plain sight from predators not because & [it misdirects, it burns] & 1 \\\\\n",
      "Information is not a ? & [beauty, commodity] & 0 \\\\\n",
      "The native language of Jules Roy is not  ? & [french, polish] & 1 \\\\\n",
      "disruptive coloration is not a subclass of  ? & [insects, camouflage] & 0 \\\\\n",
      "Organisms cannot ? & [teatro, die] & 0 \\\\\n",
      "Abdel Sattar Sabry does not play in  position ? & [wing, midfielder] & 0 \\\\\n",
      "Some animals get caught easily by other animals not because they are slow while the predators are & [manipulative, speedy] & 0 \\\\\n",
      "Ano Liosia Olympic Hall is not located in  ? & [strikeouts, athens] & 0 \\\\\n",
      "Esko Aho does not work for  ? & [nintendo, nokia] & 0 \\\\\n",
      "Riga and  are not twin cities ? & [tallinn, augsburg] & 1 \\\\\n",
      "OKK Beograd is not located in  ? & [homosexual, belgrade] & 0 \\\\\n",
      "Canjuers is not located in  ? & [bordeaux, france] & 0 \\\\\n",
      "Child does not want ? & [lab, love] & 0 \\\\\n",
      "Tungsten is a metal which is found in large amounts in filaments, which are used in incandescent light bulbs. These light bulbs work not because & [the filament glows warmly, light bulbs get very warm] & 1 \\\\\n",
      "Apple Thunderbolt Display is not developed by  ? & [intel, apple] & 0 \\\\\n",
      "Funkadelic does not play  music ? & [strips, funk] & 0 \\\\\n",
      "Morice River is not a  ? & [muscle, river] & 0 \\\\\n",
      "one inherited characteristic of fur isn't it's & [hue, weight] & 1 \\\\\n",
      "Salvadoran Football Federation is not a member of  ? & [fifa, uefa] & 1 \\\\\n",
      "Biblioteka Dlya Chteniya was not written in  ? & [russian, helpful] & 1 \\\\\n",
      "Pete Lesperance does not play  ? & [guitar, trombone] & 1 \\\\\n",
      "Ohio House of Representatives is not a legal term in  ? & [delaware, ohio] & 0 \\\\\n",
      "Jonathan Haidt does not work in the field of  ? & [music, psychology] & 0 \\\\\n",
      "Internet Archive was not written in  ? & [english, polish] & 1 \\\\\n",
      "Teres Ridge is not located in  ? & [antarctica, europe] & 1 \\\\\n",
      "Joseph Clay was not born in  ? & [ponce, philadelphia] & 0 \\\\\n",
      "One of the reasons some species go extinct is not because predators & [go dancing with them, murder too many of them] & 0 \\\\\n",
      "Cans cannot be ? & [impressed, recycled] & 0 \\\\\n",
      "Lev Naumov does not play  ? & [piano, harp] & 1 \\\\\n",
      "Tom Cruise is not affiliated with the  religion ? & [scientology, islam] & 1 \\\\\n",
      "Anti-Oedipus does not work in the field of  ? & [philosophy, algebra] & 1 \\\\\n",
      "Two wheeled conveyances are not held together by & [glue, helically ridged pins] & 0 \\\\\n",
      "Louisiana Voodoo was not founded in  ? & [nagoya, louisiana] & 0 \\\\\n",
      "Animator.ru was not created in  ? & [russia, argentina] & 1 \\\\\n",
      "Dan Sealey does not play  ? & [guitar, pipe organ] & 1 \\\\\n",
      "Football Association of Brunei Darussalam is not a member of  ? & [fifa, application] & 1 \\\\\n",
      "The leading cause of soil and rock erosion is not & [NaCl, H2O] & 0 \\\\\n",
      "Cyprus is not an ? & [accessory, island] & 0 \\\\\n",
      "Cape Town and  are not twin cities ? & [johannesburg, jerusalem] & 1 \\\\\n",
      "The Earth's closest heat source isn't & [our celestial fireball, gamma rays] & 1 \\\\\n",
      "Cars are big polluters not because they release toxins from the gas into the air making it & [space, unhealthy to breathe] & 0 \\\\\n",
      "Italy does not maintain diplomatic relations with  ? & [lebanon, insights] & 1 \\\\\n",
      "Heribert of Cologne has not the position of  ? & [mayor, archbishop] & 0 \\\\\n",
      "Parippally is not located in  ? & [propagation, india] & 0 \\\\\n",
      "Which of these isn't less likely to cause pollution & [chopper, mountain bike] & 0 \\\\\n",
      "National Film Board of Canada does not work in the field of  ? & [animation, art] & 1 \\\\\n",
      "fermented milk product does not consist of  ? & [syntax, milk] & 0 \\\\\n",
      "Quartz crystals aren't made up of & [hexagons, majic] & 1 \\\\\n",
      "nickel silver does not consist of  ? & [shrine, copper] & 0 \\\\\n",
      "Rats cannot ? & [sadness, bite] & 0 \\\\\n",
      "A landslide is not likely to occur on a slope as & [downward movement is facilitated, there is more debris] & 1 \\\\\n",
      "Tire is not  wheels? & [rubber, culminated] & 1 \\\\\n",
      "A person wanting to find a live bear in a forest will have difficulty not because bears & [are friendly, avoid humanity] & 0 \\\\\n",
      "Corn and wheat aren't among the favorite foods of & [humans, fish] & 1 \\\\\n",
      "Percussion instruments is not made of ? & [wood, temple] & 1 \\\\\n",
      "Chevrolet Trax is not produced by  ? & [specialist, chevrolet] & 0 \\\\\n",
      "The original language of The Bitch is not  ? & [english, breton] & 1 \\\\\n",
      "Bill Gates does not work for  ? & [microsoft, ibm] & 1 \\\\\n",
      "Rajesh Khanna not used to communicate in  ? & [hindi, yiddish] & 1 \\\\\n",
      "Edinburgh Airport is not named after  ? & [edinburgh, bourne] & 1 \\\\\n",
      "William of Hirsau has not the position of  ? & [abbot, republic] & 1 \\\\\n",
      "Austrian Football Association is not a member of  ? & [lecturer, fifa] & 0 \\\\\n",
      "Daniele Franceschini was not born in  ? & [telegraph, rome] & 0 \\\\\n",
      "The native language of Louis Barthou is not  ? & [french, mortar] & 1 \\\\\n",
      "A thing's position is not altered when & [thing feels moved emotionally, the thing adjusts its location] & 0 \\\\\n",
      "Name is not proper ? & [noun, address] & 1 \\\\\n",
      "Which isn't recyclable & [Styrofoam food container, soda can] & 0 \\\\\n",
      "The Jazztet does not play  music ? & [jazz, classical] & 1 \\\\\n"
     ]
    }
   ],
   "source": [
    "import json\n",
    "data = [json.loads(line) for line in open(\"processed_data.jsonl\")]\n",
    "\n",
    "for item in data:\n",
    "    print(f\"{item['question'].replace('_', '')} & [{item['choices'][0]}, {item['choices'][1]}] & {item['answer']} \\\\\\\\\")"
   ]
  },
  {
   "cell_type": "code",
   "execution_count": null,
   "metadata": {},
   "outputs": [],
   "source": []
  }
 ],
 "metadata": {
  "kernelspec": {
   "display_name": "benchmarking",
   "language": "python",
   "name": "python3"
  },
  "language_info": {
   "codemirror_mode": {
    "name": "ipython",
    "version": 3
   },
   "file_extension": ".py",
   "mimetype": "text/x-python",
   "name": "python",
   "nbconvert_exporter": "python",
   "pygments_lexer": "ipython3",
   "version": "3.8.12"
  },
  "orig_nbformat": 4,
  "vscode": {
   "interpreter": {
    "hash": "c40801cbea77c0a79d9078044a3ed1f5c584e36b3aad3c05dab13f6f27ed4dea"
   }
  }
 },
 "nbformat": 4,
 "nbformat_minor": 2
}
