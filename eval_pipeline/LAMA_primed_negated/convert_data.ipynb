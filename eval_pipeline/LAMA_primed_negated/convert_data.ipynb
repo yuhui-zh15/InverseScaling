{
 "cells": [
  {
   "cell_type": "code",
   "execution_count": 1,
   "metadata": {},
   "outputs": [],
   "source": [
    "import json\n",
    "import os"
   ]
  },
  {
   "cell_type": "code",
   "execution_count": 2,
   "metadata": {},
   "outputs": [],
   "source": [
    "def make_first_letter_uppercase(string):\n",
    "    return string[0].upper() + string[1:]\n",
    "\n",
    "new_data = []\n",
    "for dataset in [\"ConceptNet\", \"GoogleRE\", \"SQUAD\", \"TREx\"]:\n",
    "    for category in [\"high_ranked\", \"low_ranked\", \"random\"]:\n",
    "        if not os.path.exists(f\"data/{dataset}/{category}\"): continue\n",
    "        for subdataset in os.listdir(f\"data/{dataset}/{category}\"):\n",
    "            if subdataset.endswith(\".jsonl\"):\n",
    "                with open(f\"data/{dataset}/{category}/{subdataset}\", \"r\") as f:\n",
    "                    data = [json.loads(line) for line in f.readlines()]\n",
    "                \n",
    "                    for idx, item in enumerate(data):\n",
    "\n",
    "                        assert len(item[\"masked_negations\"]) == 1\n",
    "                        \n",
    "                        choice_correct = item[\"obj_label\"].strip().lower()\n",
    "                        choice_wrong = item[\"masked_misprimed\"][0].split(\"?\")[0].strip().lower()\n",
    "                        negated_question = item[\"masked_negations\"][0].replace(\"[MASK]\", \"___\")\n",
    "                        assert negated_question[-1] == \".\"\n",
    "                        negated_question = negated_question[:-1] + \"?\"\n",
    "                        \n",
    "                        new_item = {\n",
    "                            \"question\": {\n",
    "                                \"stem\": negated_question,\n",
    "                                \"choices\": [\n",
    "                                    {\n",
    "                                        \"text\": choice_correct,\n",
    "                                        \"label\": \"A\" if idx % 2 == 0 else \"B\"\n",
    "                                    },\n",
    "                                    {\n",
    "                                        \"text\": choice_wrong,\n",
    "                                        \"label\": \"B\" if idx % 2 == 0 else \"A\"\n",
    "                                    }\n",
    "                                ]\n",
    "                            },\n",
    "                            \"answerKey\": \"B\" if idx % 2 == 0 else \"A\",\n",
    "                            \"metadata\": {\n",
    "                                \"dataset\": dataset,\n",
    "                                \"category\": category,\n",
    "                                \"subdataset\": subdataset,\n",
    "                                \"idx\": idx\n",
    "                            }\n",
    "                        }\n",
    "\n",
    "                        new_data.append(new_item)\n",
    "\n",
    "with open(f\"processed.jsonl\", \"w\") as f:\n",
    "    for item in new_data:\n",
    "        f.write(json.dumps(item) + \"\\n\")"
   ]
  },
  {
   "cell_type": "code",
   "execution_count": 3,
   "metadata": {},
   "outputs": [],
   "source": [
    "import random\n",
    "random.seed(1234)\n",
    "\n",
    "# randomly sample 50 items from each unique (dataset, category, subdataset) tuple\n",
    "data_categorized = {}\n",
    "\n",
    "for item in new_data:\n",
    "    key = (item[\"metadata\"][\"dataset\"], item[\"metadata\"][\"category\"], item[\"metadata\"][\"subdataset\"])\n",
    "    if key not in data_categorized:\n",
    "        data_categorized[key] = []\n",
    "    data_categorized[key].append(item)\n",
    "\n",
    "sampled_data = []\n",
    "for key in data_categorized:\n",
    "    if key[0] == \"TREx\":\n",
    "        sampled_data.extend(random.sample(data_categorized[key], min(5, len(data_categorized[key]))))\n",
    "    else:\n",
    "        sampled_data.extend(random.sample(data_categorized[key], min(50, len(data_categorized[key]))))\n",
    "\n",
    "with open(f\"processed_sampled.jsonl\", \"w\") as f:\n",
    "    for item in sampled_data:\n",
    "        f.write(json.dumps(item) + \"\\n\")\n"
   ]
  },
  {
   "cell_type": "code",
   "execution_count": null,
   "metadata": {},
   "outputs": [],
   "source": []
  }
 ],
 "metadata": {
  "kernelspec": {
   "display_name": "Python 3.8.12 ('benchmarking')",
   "language": "python",
   "name": "python3"
  },
  "language_info": {
   "codemirror_mode": {
    "name": "ipython",
    "version": 3
   },
   "file_extension": ".py",
   "mimetype": "text/x-python",
   "name": "python",
   "nbconvert_exporter": "python",
   "pygments_lexer": "ipython3",
   "version": "3.8.12"
  },
  "orig_nbformat": 4,
  "vscode": {
   "interpreter": {
    "hash": "c40801cbea77c0a79d9078044a3ed1f5c584e36b3aad3c05dab13f6f27ed4dea"
   }
  }
 },
 "nbformat": 4,
 "nbformat_minor": 2
}
