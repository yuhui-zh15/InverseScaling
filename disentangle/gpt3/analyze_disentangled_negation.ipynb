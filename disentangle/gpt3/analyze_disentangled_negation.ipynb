{
 "cells": [
  {
   "cell_type": "code",
   "execution_count": null,
   "metadata": {},
   "outputs": [],
   "source": [
    "# !pip install crfm-helm"
   ]
  },
  {
   "cell_type": "code",
   "execution_count": 14,
   "metadata": {},
   "outputs": [
    {
     "name": "stdout",
     "output_type": "stream",
     "text": [
      "{'gpt3': {'daily': Usage(period='2023-1-8', used=10050, quota=10000), 'monthly': Usage(period='2023-1', used=20067, quota=None), 'total': Usage(period='all', used=1963414, quota=None)}, 'codex': {'daily': Usage(period='2022-6-8', used=10969, quota=10000), 'monthly': Usage(period='2022-6', used=10989, quota=None), 'total': Usage(period='all', used=187414, quota=None)}, 'jurassic': {'daily': Usage(period='2022-11-12', used=100, quota=10000), 'monthly': Usage(period='2022-11', used=100, quota=None), 'total': Usage(period='all', used=196393, quota=None)}, 'simple': {'daily': Usage(period='2022-4-7', used=0, quota=None), 'monthly': Usage(period='2022-4', used=0, quota=None), 'total': Usage(period='all', used=0, quota=None)}, 'gooseai': {'daily': Usage(period='2022-6-9', used=0, quota=0), 'monthly': Usage(period='2022-6', used=0, quota=None), 'total': Usage(period='all', used=75, quota=None)}, 'anthropic': {'daily': Usage(period='2022-11-12', used=0, quota=None), 'monthly': Usage(period='2022-11', used=0, quota=None), 'total': Usage(period='all', used=0, quota=None)}, 'microsoft': {'daily': Usage(period='2022-11-17', used=0, quota=None), 'monthly': Usage(period='2022-11', used=0, quota=None), 'total': Usage(period='all', used=0, quota=None)}, 'together': {'daily': Usage(period='2022-11-17', used=0, quota=None), 'monthly': Usage(period='2022-11', used=0, quota=None), 'total': Usage(period='all', used=0, quota=None)}, 'cohere': {'daily': Usage(period='2022-11-17', used=100, quota=10000), 'monthly': Usage(period='2022-11', used=100, quota=None), 'total': Usage(period='all', used=100, quota=None)}, 'text_to_image': {'daily': Usage(period=None, used=0, quota=10)}, 'dall_e': {'daily': Usage(period=None, used=0, quota=5)}, 'together_vision': {'daily': Usage(period=None, used=0, quota=30)}}\n"
     ]
    }
   ],
   "source": [
    "import getpass\n",
    "\n",
    "from helm.common.authentication import Authentication\n",
    "from helm.common.perspective_api_request import PerspectiveAPIRequest, PerspectiveAPIRequestResult\n",
    "from helm.common.request import Request, RequestResult\n",
    "from helm.common.tokenization_request import TokenizationRequest, TokenizationRequestResult\n",
    "from helm.proxy.accounts import Account\n",
    "from helm.proxy.services.remote_service import RemoteService\n",
    "\n",
    "# An example of how to use the request API.\n",
    "api_key = \"benchmarking-123\" #\"crfm-123\"\n",
    "auth = Authentication(api_key=api_key)\n",
    "service = RemoteService(\"https://crfm-models.stanford.edu\")\n",
    "\n",
    "# Access account and show my current quotas and usages\n",
    "account: Account = service.get_account(auth)\n",
    "print(account.usages)"
   ]
  },
  {
   "cell_type": "code",
   "execution_count": 2,
   "metadata": {},
   "outputs": [
    {
     "name": "stdout",
     "output_type": "stream",
     "text": [
      "-88.96458005929999\n",
      "-90.51043699329999\n"
     ]
    }
   ],
   "source": [
    "model = \"openai/ada\"\n",
    "prompt = \"\"\"Eden Roc Renaissance Hotel Miami Beach is a hotel. This is true.\n",
    "\n",
    "Eden Roc Renaissance Hotel Miami Beach is not a hotel. This is \"\"\"\n",
    "\n",
    "request = Request(model=model, prompt=prompt +\"true.\", echo_prompt=True, max_tokens=0)\n",
    "request_result: RequestResult = service.make_request(auth, request)\n",
    "print(request_result.completions[0].logprob)\n",
    "\n",
    "request = Request(model=model, prompt=prompt +\"false.\", echo_prompt=True, max_tokens=0)\n",
    "request_result: RequestResult = service.make_request(auth, request)\n",
    "print(request_result.completions[0].logprob)"
   ]
  },
  {
   "cell_type": "code",
   "execution_count": 3,
   "metadata": {},
   "outputs": [
    {
     "name": "stdout",
     "output_type": "stream",
     "text": [
      "-88.175255494\n",
      "-87.222965954\n"
     ]
    }
   ],
   "source": [
    "model = \"openai/babbage\"\n",
    "prompt = \"\"\"Eden Roc Renaissance Hotel Miami Beach is a hotel. This is true.\n",
    "\n",
    "Eden Roc Renaissance Hotel Miami Beach is not a hotel. This is \"\"\"\n",
    "\n",
    "request = Request(model=model, prompt=prompt +\"true.\", echo_prompt=True, max_tokens=0)\n",
    "request_result: RequestResult = service.make_request(auth, request)\n",
    "print(request_result.completions[0].logprob)\n",
    "\n",
    "request = Request(model=model, prompt=prompt +\"false.\", echo_prompt=True, max_tokens=0)\n",
    "request_result: RequestResult = service.make_request(auth, request)\n",
    "print(request_result.completions[0].logprob)"
   ]
  },
  {
   "cell_type": "code",
   "execution_count": 4,
   "metadata": {},
   "outputs": [
    {
     "name": "stdout",
     "output_type": "stream",
     "text": [
      "-73.4480860745\n",
      "-74.0099315185\n"
     ]
    }
   ],
   "source": [
    "model = \"openai/curie\"\n",
    "prompt = \"\"\"Eden Roc Renaissance Hotel Miami Beach is a hotel. This is true.\n",
    "\n",
    "Eden Roc Renaissance Hotel Miami Beach is not a hotel. This is \"\"\"\n",
    "\n",
    "request = Request(model=model, prompt=prompt +\"true.\", echo_prompt=True, max_tokens=0)\n",
    "request_result: RequestResult = service.make_request(auth, request)\n",
    "print(request_result.completions[0].logprob)\n",
    "\n",
    "request = Request(model=model, prompt=prompt +\"false.\", echo_prompt=True, max_tokens=0)\n",
    "request_result: RequestResult = service.make_request(auth, request)\n",
    "print(request_result.completions[0].logprob)"
   ]
  },
  {
   "cell_type": "code",
   "execution_count": 5,
   "metadata": {},
   "outputs": [
    {
     "name": "stdout",
     "output_type": "stream",
     "text": [
      "-64.97511431319998\n",
      "-64.36074815019998\n"
     ]
    }
   ],
   "source": [
    "model = \"openai/davinci\"\n",
    "prompt = \"\"\"Eden Roc Renaissance Hotel Miami Beach is a hotel. This is true.\n",
    "\n",
    "Eden Roc Renaissance Hotel Miami Beach is not a hotel. This is \"\"\"\n",
    "\n",
    "request = Request(model=model, prompt=prompt +\"true.\", echo_prompt=True, max_tokens=0)\n",
    "request_result: RequestResult = service.make_request(auth, request)\n",
    "print(request_result.completions[0].logprob)\n",
    "\n",
    "request = Request(model=model, prompt=prompt +\"false.\", echo_prompt=True, max_tokens=0)\n",
    "request_result: RequestResult = service.make_request(auth, request)\n",
    "print(request_result.completions[0].logprob)"
   ]
  },
  {
   "cell_type": "markdown",
   "metadata": {},
   "source": [
    "## Load data"
   ]
  },
  {
   "cell_type": "code",
   "execution_count": 6,
   "metadata": {},
   "outputs": [],
   "source": [
    "import json\n",
    "import numpy as np\n",
    "from tqdm import tqdm \n",
    "from collections import defaultdict\n",
    "\n",
    "normal_list = [json.loads(l) for l in open(\"../../eval_pipeline/LAMA_primed_negated/processed_sampled_normal.jsonl\")]\n",
    "negated_list = [json.loads(l) for l in open(\"../../eval_pipeline/LAMA_primed_negated/processed_sampled.jsonl\")]\n",
    "assert len(normal_list) == len(negated_list)\n",
    "\n",
    "idxs = list(range(len(normal_list)))\n",
    "np.random.seed(123)\n",
    "np.random.shuffle(idxs)\n",
    "\n",
    "def fill_blank(sent, fill):\n",
    "    if sent.endswith(\"___ ?\"):\n",
    "        return sent[:-len(\"___ ?\")] + fill\n",
    "    elif sent.endswith(\"___?\"):\n",
    "        return sent[:-len(\"___?\")] + fill\n",
    "#     print (sent)\n",
    "    return None\n",
    "\n",
    "normal_negated_pairs = []\n",
    "for idx in idxs:\n",
    "    answerKey = ord(normal_list[idx][\"answerKey\"]) - ord(\"A\")\n",
    "    answer = normal_list[idx][\"question\"][\"choices\"][answerKey][\"text\"]\n",
    "    normal_sent = fill_blank(normal_list[idx][\"question\"][\"stem\"], answer)\n",
    "    negated_sent = fill_blank(negated_list[idx][\"question\"][\"stem\"], answer)\n",
    "    if None not in [normal_sent, negated_sent]:\n",
    "        normal_negated_pairs.append([normal_sent, negated_sent])\n",
    "    if len(normal_negated_pairs) == 100:\n",
    "        break"
   ]
  },
  {
   "cell_type": "code",
   "execution_count": 7,
   "metadata": {},
   "outputs": [
    {
     "data": {
      "text/plain": [
       "[['USS Louisiana is named after louisiana',\n",
       "  'USS Louisiana is not named after louisiana'],\n",
       " ['Most animals have eyes', 'Most animals have not eyes'],\n",
       " ['Virtual XI is represented by music label emi',\n",
       "  'Virtual XI is not represented by music label emi'],\n",
       " ['Durham Bulls Athletic Park is owned by durham',\n",
       "  'Durham Bulls Athletic Park is not owned by durham'],\n",
       " ['Kindle Fire is produced by amazon',\n",
       "  'Kindle Fire is not produced by amazon'],\n",
       " ['Love can hurt', 'Love cannot hurt'],\n",
       " ['Alison Wonderland is represented by music label emi',\n",
       "  'Alison Wonderland is not represented by music label emi'],\n",
       " ['Karl Friedrich von Klöden was born in the city of berlin',\n",
       "  'Karl Friedrich von Klöden was not born in the city of berlin'],\n",
       " ['The original language of Sainikudu is telugu',\n",
       "  'The original language of Sainikudu is not telugu'],\n",
       " ['Tanya Savicheva used to communicate in russian',\n",
       "  'Tanya Savicheva not used to communicate in russian']]"
      ]
     },
     "execution_count": 7,
     "metadata": {},
     "output_type": "execute_result"
    }
   ],
   "source": [
    "normal_negated_pairs[:10]"
   ]
  },
  {
   "cell_type": "code",
   "execution_count": 8,
   "metadata": {},
   "outputs": [],
   "source": [
    "MODELS = [\"openai/ada\", \"openai/babbage\", \"openai/curie\", \"openai/davinci\"]"
   ]
  },
  {
   "cell_type": "code",
   "execution_count": 9,
   "metadata": {},
   "outputs": [],
   "source": [
    "from matplotlib import pyplot as plt\n",
    "\n",
    "def plot_curve(accs):\n",
    "    model_sizes = [np.log(0.35), np.log(1), np.log(7), np.log(175)]\n",
    "    models = [\"ada\", \"babbage\", \"curie\", \"davinci\"]\n",
    "\n",
    "    plt.figure(figsize=(10, 4))\n",
    "    plt.plot(model_sizes, accs, label=\"Score\", marker=\"o\")\n",
    "    for i, (x, y) in enumerate(zip(model_sizes, accs)):\n",
    "        if i < 1:          \n",
    "            plt.text(x, y, f\"{y:.4f}\\n{models[i]}\\n\", ha=\"center\", va=\"bottom\")\n",
    "        else:\n",
    "            plt.text(x, y, f\"\\n{y:.4f}\\n{models[i]}\", ha=\"center\", va=\"top\")\n",
    "\n",
    "    plt.xlabel(\"Model size (log billion)\")\n",
    "    plt.ylabel(\"Score\")\n",
    "\n",
    "    plt.legend()\n",
    "    plt.show()"
   ]
  },
  {
   "cell_type": "markdown",
   "metadata": {},
   "source": [
    "## Prompt 1"
   ]
  },
  {
   "cell_type": "code",
   "execution_count": 10,
   "metadata": {},
   "outputs": [
    {
     "name": "stderr",
     "output_type": "stream",
     "text": [
      "100%|███████████████████████████████████████████| 20/20 [00:10<00:00,  1.89it/s]\n"
     ]
    },
    {
     "data": {
      "text/plain": [
       "{'openai/ada': 0.5,\n",
       " 'openai/babbage': 0.9,\n",
       " 'openai/curie': 1.0,\n",
       " 'openai/davinci': 0.9}"
      ]
     },
     "execution_count": 10,
     "metadata": {},
     "output_type": "execute_result"
    }
   ],
   "source": [
    "def get_logp(prompt, model):\n",
    "    request = Request(model=model, prompt=prompt, echo_prompt=True, max_tokens=0)\n",
    "    request_result: RequestResult = service.make_request(auth, request)\n",
    "    return request_result.completions[0].logprob\n",
    "\n",
    "def prompt_and_eval(normal_negated_pair, model):\n",
    "    normal_sent, negated_sent = normal_negated_pair\n",
    "    prompt = f\"\"\"\\\"{normal_sent}.\\\" This is true.\n",
    "\n",
    "\\\"{negated_sent}.\\\" This is \"\"\"\n",
    "    prob_t = get_logp(prompt + \"true.\", model)\n",
    "    prob_f = get_logp(prompt + \"false.\", model)\n",
    "    return prompt, prob_t, prob_f, int(prob_f > prob_t)\n",
    "\n",
    "np.random.seed(888)\n",
    "outputs = []\n",
    "evals = defaultdict(list)\n",
    "outf = open(\"prompt1_outputs.json\", \"w\")\n",
    "for normal_negated_pair in tqdm(normal_negated_pairs[:20]):\n",
    "    normal_sent, negated_sent = normal_negated_pair\n",
    "    obj = {\"normal_sent\": normal_sent,\n",
    "           \"negated_sent\": negated_sent,\n",
    "           \"prompt\": None,\n",
    "           \"pred\": {},\n",
    "          }\n",
    "    for model in MODELS:\n",
    "        prompt, prob_t, prob_f, acc = prompt_and_eval(normal_negated_pair, model)\n",
    "        obj[\"prompt\"] = prompt\n",
    "        obj[\"pred\"][model] = [prob_t, prob_f]\n",
    "        evals[model].append(acc)\n",
    "    outputs.append(obj)\n",
    "    print(json.dumps(obj), file=outf)   \n",
    "outf.close()\n",
    "\n",
    "accuracy = {key: (np.mean(evals[key])) for key in evals}\n",
    "accuracy"
   ]
  },
  {
   "cell_type": "code",
   "execution_count": 11,
   "metadata": {},
   "outputs": [
    {
     "data": {
      "image/png": "[encoded data removed]",
      "text/plain": [
       "<Figure size 1000x400 with 1 Axes>"
      ]
     },
     "metadata": {},
     "output_type": "display_data"
    }
   ],
   "source": [
    "#Performance of negation understanding\n",
    "#accuracy=0.5 means random guess (no understanding of negation), so adjust this to be score 0\n",
    "plot_curve([max((np.mean(evals[key])-0.5)/0.5, 0) for key in evals])"
   ]
  },
  {
   "cell_type": "markdown",
   "metadata": {},
   "source": [
    "## Prompt 2"
   ]
  },
  {
   "cell_type": "code",
   "execution_count": 12,
   "metadata": {},
   "outputs": [
    {
     "name": "stderr",
     "output_type": "stream",
     "text": [
      "100%|███████████████████████████████████████████| 20/20 [00:10<00:00,  1.94it/s]\n"
     ]
    },
    {
     "data": {
      "text/plain": [
       "{'openai/ada': 0.8,\n",
       " 'openai/babbage': 0.9,\n",
       " 'openai/curie': 1.0,\n",
       " 'openai/davinci': 1.0}"
      ]
     },
     "execution_count": 12,
     "metadata": {},
     "output_type": "execute_result"
    }
   ],
   "source": [
    "def get_logp(prompt, model):\n",
    "    request = Request(model=model, prompt=prompt, echo_prompt=True, max_tokens=0)\n",
    "    request_result: RequestResult = service.make_request(auth, request)\n",
    "    return request_result.completions[0].logprob\n",
    "\n",
    "def prompt_and_eval(normal_negated_pair, model):\n",
    "    normal_sent, negated_sent = normal_negated_pair\n",
    "    prompt = f\"\"\"{normal_sent}.\n",
    "\n",
    "{negated_sent}.\n",
    "\n",
    "Are the above two sentences the same? \"\"\"\n",
    "    prob_t = get_logp(prompt + \"Yes.\", model)\n",
    "    prob_f = get_logp(prompt + \"No.\", model)\n",
    "    return prompt, prob_t, prob_f, int(prob_t < prob_f)\n",
    "\n",
    "\n",
    "np.random.seed(888)\n",
    "outputs = []\n",
    "evals = defaultdict(list)\n",
    "outf = open(\"prompt2_outputs.json\", \"w\")\n",
    "for normal_negated_pair in tqdm(normal_negated_pairs[:20]):\n",
    "    normal_sent, negated_sent = normal_negated_pair\n",
    "    obj = {\"normal_sent\": normal_sent,\n",
    "           \"negated_sent\": negated_sent,\n",
    "           \"prompt\": None,\n",
    "           \"pred\": {},\n",
    "          }\n",
    "    for model in MODELS:\n",
    "        prompt, prob_t, prob_f, acc = prompt_and_eval(normal_negated_pair, model)\n",
    "        obj[\"prompt\"] = prompt\n",
    "        obj[\"pred\"][model] = [prob_t, prob_f]\n",
    "        evals[model].append(acc)\n",
    "    outputs.append(obj)\n",
    "    print(json.dumps(obj), file=outf)   \n",
    "outf.close()\n",
    "\n",
    "accuracy = {key: (np.mean(evals[key])) for key in evals}\n",
    "accuracy"
   ]
  },
  {
   "cell_type": "code",
   "execution_count": 13,
   "metadata": {},
   "outputs": [
    {
     "data": {
      "image/png": "[encoded data removed]",
      "text/plain": [
       "<Figure size 1000x400 with 1 Axes>"
      ]
     },
     "metadata": {},
     "output_type": "display_data"
    }
   ],
   "source": [
    "#Performance of negation understanding\n",
    "#accuracy=0.5 means random guess (no understanding of negation), so adjust this to be score 0\n",
    "plot_curve([max((np.mean(evals[key])-0.5)/0.5, 0) for key in evals])"
   ]
  },
  {
   "cell_type": "code",
   "execution_count": null,
   "metadata": {},
   "outputs": [],
   "source": []
  }
 ],
 "metadata": {
  "kernelspec": {
   "display_name": "Python [conda env:crfm-helm]",
   "language": "python",
   "name": "conda-env-crfm-helm-py"
  },
  "language_info": {
   "codemirror_mode": {
    "name": "ipython",
    "version": 3
   },
   "file_extension": ".py",
   "mimetype": "text/x-python",
   "name": "python",
   "nbconvert_exporter": "python",
   "pygments_lexer": "ipython3",
   "version": "3.8.15"
  }
 },
 "nbformat": 4,
 "nbformat_minor": 5
}
