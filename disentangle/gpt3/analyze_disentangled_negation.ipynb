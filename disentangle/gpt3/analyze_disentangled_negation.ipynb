{
 "cells": [
  {
   "cell_type": "code",
   "execution_count": null,
   "metadata": {},
   "outputs": [],
   "source": [
    "# !pip install crfm-helm"
   ]
  },
  {
   "cell_type": "code",
   "execution_count": 1,
   "metadata": {},
   "outputs": [
    {
     "name": "stdout",
     "output_type": "stream",
     "text": [
      "{'gpt3': {'daily': Usage(period='2023-1-13', used=7953, quota=None), 'monthly': Usage(period='2023-1', used=125972, quota=None), 'total': Usage(period='all', used=125972, quota=10000000)}, 'codex': {'daily': Usage(period=None, used=0, quota=None), 'monthly': Usage(period=None, used=0, quota=None), 'total': Usage(period=None, used=0, quota=10000000)}, 'jurassic': {'daily': Usage(period='2023-1-11', used=17, quota=None), 'monthly': Usage(period='2023-1', used=1934, quota=None), 'total': Usage(period='all', used=1934, quota=10000000)}, 'gooseai': {'daily': Usage(period=None, used=0, quota=None), 'monthly': Usage(period=None, used=0, quota=None), 'total': Usage(period=None, used=0, quota=10000000)}, 'cohere': {'daily': Usage(period=None, used=0, quota=10000)}, 'dall_e': {'daily': Usage(period='2023-1-13', used=119, quota=None), 'monthly': Usage(period='2023-1', used=879, quota=None), 'total': Usage(period='all', used=879, quota=100000)}, 'together_vision': {'daily': Usage(period='2023-1-11', used=2, quota=None), 'monthly': Usage(period='2023-1', used=132, quota=None), 'total': Usage(period='all', used=132, quota=100000)}, 'together': {'daily': Usage(period='2023-1-11', used=0, quota=None), 'monthly': Usage(period='2023-1', used=13, quota=None), 'total': Usage(period='all', used=13, quota=None)}, 'anthropic': {'daily': Usage(period='2023-1-9', used=0, quota=None), 'monthly': Usage(period='2023-1', used=0, quota=None), 'total': Usage(period='all', used=0, quota=None)}}\n"
     ]
    }
   ],
   "source": [
    "import getpass\n",
    "\n",
    "from helm.common.authentication import Authentication\n",
    "from helm.common.perspective_api_request import PerspectiveAPIRequest, PerspectiveAPIRequestResult\n",
    "from helm.common.request import Request, RequestResult\n",
    "from helm.common.tokenization_request import TokenizationRequest, TokenizationRequestResult\n",
    "from helm.proxy.accounts import Account\n",
    "from helm.proxy.services.remote_service import RemoteService\n",
    "\n",
    "# An example of how to use the request API.\n",
    "api_key = \"benchmarking-123\" #\"crfm-123\"\n",
    "auth = Authentication(api_key=api_key)\n",
    "service = RemoteService(\"https://crfm-models.stanford.edu\")\n",
    "\n",
    "# Access account and show my current quotas and usages\n",
    "account: Account = service.get_account(auth)\n",
    "print(account.usages)"
   ]
  },
  {
   "cell_type": "markdown",
   "metadata": {},
   "source": [
    "## Load data"
   ]
  },
  {
   "cell_type": "code",
   "execution_count": 2,
   "metadata": {},
   "outputs": [],
   "source": [
    "import json\n",
    "import numpy as np\n",
    "from tqdm import tqdm \n",
    "from collections import defaultdict\n",
    "\n",
    "normal_list = [json.loads(l) for l in open(\"../../eval_pipeline/LAMA_primed_negated/processed_sampled_normal.jsonl\")]\n",
    "negated_list = [json.loads(l) for l in open(\"../../eval_pipeline/LAMA_primed_negated/processed_sampled.jsonl\")]\n",
    "assert len(normal_list) == len(negated_list)\n",
    "\n",
    "idxs = list(range(len(normal_list)))\n",
    "np.random.seed(123)\n",
    "np.random.shuffle(idxs)\n",
    "\n",
    "def fill_blank(sent, fill):\n",
    "    if sent.endswith(\"___ ?\"):\n",
    "        return sent[:-len(\"___ ?\")] + fill\n",
    "    elif sent.endswith(\"___?\"):\n",
    "        return sent[:-len(\"___?\")] + fill\n",
    "#     print (sent)\n",
    "    return None\n",
    "\n",
    "normal_negated_pairs = []\n",
    "for idx in idxs:\n",
    "    answerKey = ord(normal_list[idx][\"answerKey\"]) - ord(\"A\")\n",
    "    answer = normal_list[idx][\"question\"][\"choices\"][answerKey][\"text\"]\n",
    "    normal_sent = fill_blank(normal_list[idx][\"question\"][\"stem\"], answer)\n",
    "    negated_sent = fill_blank(negated_list[idx][\"question\"][\"stem\"], answer)\n",
    "    if None not in [normal_sent, negated_sent]:\n",
    "        normal_negated_pairs.append([normal_sent, negated_sent])\n",
    "    if len(normal_negated_pairs) == 100:\n",
    "        break"
   ]
  },
  {
   "cell_type": "code",
   "execution_count": 3,
   "metadata": {
    "scrolled": true
   },
   "outputs": [
    {
     "data": {
      "text/plain": [
       "[['USS Louisiana is named after louisiana',\n",
       "  'USS Louisiana is not named after louisiana'],\n",
       " ['Most animals have eyes', 'Most animals have not eyes'],\n",
       " ['Virtual XI is represented by music label emi',\n",
       "  'Virtual XI is not represented by music label emi'],\n",
       " ['Durham Bulls Athletic Park is owned by durham',\n",
       "  'Durham Bulls Athletic Park is not owned by durham'],\n",
       " ['Kindle Fire is produced by amazon',\n",
       "  'Kindle Fire is not produced by amazon'],\n",
       " ['Love can hurt', 'Love cannot hurt'],\n",
       " ['Alison Wonderland is represented by music label emi',\n",
       "  'Alison Wonderland is not represented by music label emi'],\n",
       " ['Karl Friedrich von Klöden was born in the city of berlin',\n",
       "  'Karl Friedrich von Klöden was not born in the city of berlin'],\n",
       " ['The original language of Sainikudu is telugu',\n",
       "  'The original language of Sainikudu is not telugu'],\n",
       " ['Tanya Savicheva used to communicate in russian',\n",
       "  'Tanya Savicheva not used to communicate in russian']]"
      ]
     },
     "execution_count": 3,
     "metadata": {},
     "output_type": "execute_result"
    }
   ],
   "source": [
    "normal_negated_pairs[:10]"
   ]
  },
  {
   "cell_type": "code",
   "execution_count": 14,
   "metadata": {},
   "outputs": [],
   "source": [
    "from matplotlib import pyplot as plt\n",
    "\n",
    "def plot_curve(accs):\n",
    "    model_sizes = [np.log(0.35), np.log(1), np.log(7), np.log(175)]\n",
    "    models = [\"ada\", \"babbage\", \"curie\", \"davinci\"]\n",
    "\n",
    "    plt.figure(figsize=(10, 4))\n",
    "    plt.plot(model_sizes, accs, label=\"Score\", marker=\"o\")\n",
    "    for i, (x, y) in enumerate(zip(model_sizes, accs)):\n",
    "        if i < 2:          \n",
    "            plt.text(x, y, f\"{y:.4f}\\n{models[i]}\\n\", ha=\"center\", va=\"bottom\")\n",
    "        else:\n",
    "            plt.text(x, y, f\"\\n{y:.4f}\\n{models[i]}\", ha=\"center\", va=\"top\")\n",
    "\n",
    "    plt.xlabel(\"Model size (log billion) / training compute\")\n",
    "    plt.ylabel(\"Score\")\n",
    "\n",
    "    plt.legend()\n",
    "    plt.show()"
   ]
  },
  {
   "cell_type": "code",
   "execution_count": 11,
   "metadata": {},
   "outputs": [],
   "source": [
    "MODELS = [\"openai/ada\", \"openai/babbage\", \"openai/curie\", \"openai/davinci\"]"
   ]
  },
  {
   "cell_type": "markdown",
   "metadata": {},
   "source": [
    "## Prompt 2"
   ]
  },
  {
   "cell_type": "code",
   "execution_count": 12,
   "metadata": {},
   "outputs": [
    {
     "name": "stderr",
     "output_type": "stream",
     "text": [
      "100%|███████████████████████████████████████████| 20/20 [00:04<00:00,  4.53it/s]\n"
     ]
    },
    {
     "data": {
      "text/plain": [
       "{'openai/ada': 0.45,\n",
       " 'openai/babbage': 0.375,\n",
       " 'openai/curie': 0.7,\n",
       " 'openai/davinci': 0.7}"
      ]
     },
     "execution_count": 12,
     "metadata": {},
     "output_type": "execute_result"
    }
   ],
   "source": [
    "def prompt_format(normal_negated_pair):\n",
    "    normal_sent, negated_sent = normal_negated_pair\n",
    "    prompt = f\"\"\"The following is a multiple choice question. Note that negation changes the meaning of the original sentence. For example, \\\"isn't\\\", \\\"is not\\\", \\\"not because\\\", \\\"do not\\\" are strong signs of negation.\n",
    "\n",
    "Question:\n",
    "\\\"{normal_sent}.\\\"\n",
    "\n",
    "\\\"{negated_sent}.\\\"\n",
    "\n",
    "Do the above two sentences have the same meaning? A. Yes B. No\n",
    "The answer is\"\"\"\n",
    "    label = \"different\"\n",
    "    return prompt, label\n",
    "\n",
    "def prompt_eval(pred, label):\n",
    "    pos_label = {\"no\", \"b\", \"(b)\"}\n",
    "    neg_label = {\"yes\", \"a\", \"(a)\"}\n",
    "    pos_count, neg_count = 0, 0\n",
    "    for tok in pred.strip().strip(\"\\n\").strip(\".,\").strip(\"\\\"\").split():\n",
    "        tok = tok.lower().strip().strip(\"\\n:.,\\\"\")\n",
    "        if tok in pos_label:\n",
    "            pos_count += 1\n",
    "        elif tok in neg_label:\n",
    "            neg_count += 1\n",
    "    if pos_count > neg_count:\n",
    "        return 1\n",
    "    elif pos_count < neg_count:\n",
    "        return 0\n",
    "    return 0.5\n",
    "\n",
    "np.random.seed(888)\n",
    "outputs = []\n",
    "evals = defaultdict(list)\n",
    "outf = open(\"prompt2_outputs.json\", \"w\")\n",
    "for normal_negated_pair in tqdm(normal_negated_pairs[:20]):\n",
    "    prompt, label = prompt_format(normal_negated_pair)\n",
    "    normal_sent, negated_sent = normal_negated_pair\n",
    "    obj = {\"normal_sent\": normal_sent,\n",
    "           \"negated_sent\": negated_sent,\n",
    "           \"prompt\": prompt,\n",
    "           \"label\": label,\n",
    "           \"pred\": {},\n",
    "          }\n",
    "    for model in MODELS:\n",
    "        request = Request(model=model, prompt=prompt, echo_prompt=False, max_tokens=3)\n",
    "        request_result: RequestResult = service.make_request(auth, request)\n",
    "        pred = request_result.completions[0].text\n",
    "        obj[\"pred\"][model] = pred\n",
    "        evals[model].append(prompt_eval(pred, label))\n",
    "    outputs.append(obj)\n",
    "    print(json.dumps(obj), file=outf)\n",
    "        \n",
    "outf.close()\n",
    "accuracy = {key: (np.mean(evals[key])) for key in evals}\n",
    "accuracy\n",
    "        "
   ]
  },
  {
   "cell_type": "code",
   "execution_count": 15,
   "metadata": {},
   "outputs": [
    {
     "data": {
      "image/png": "[encoded data removed]",
      "text/plain": [
       "<Figure size 1000x400 with 1 Axes>"
      ]
     },
     "metadata": {},
     "output_type": "display_data"
    }
   ],
   "source": [
    "#Performance of negation understanding\n",
    "#accuracy=0.5 means random guess (no understanding of negation), so adjust this to be score 0\n",
    "plot_curve([max((np.mean(evals[key])-0.5)/0.5, 0) for key in evals])"
   ]
  },
  {
   "cell_type": "code",
   "execution_count": null,
   "metadata": {},
   "outputs": [],
   "source": []
  }
 ],
 "metadata": {
  "kernelspec": {
   "display_name": "Python [conda env:crfm-helm]",
   "language": "python",
   "name": "conda-env-crfm-helm-py"
  },
  "language_info": {
   "codemirror_mode": {
    "name": "ipython",
    "version": 3
   },
   "file_extension": ".py",
   "mimetype": "text/x-python",
   "name": "python",
   "nbconvert_exporter": "python",
   "pygments_lexer": "ipython3",
   "version": "3.8.15"
  }
 },
 "nbformat": 4,
 "nbformat_minor": 5
}
