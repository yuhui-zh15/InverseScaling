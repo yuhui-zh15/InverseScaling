{
 "cells": [
  {
   "cell_type": "code",
   "execution_count": null,
   "metadata": {},
   "outputs": [],
   "source": [
    "import os\n",
    "import json\n",
    "from glob import glob\n",
    "\n",
    "def read_jsonl(path):\n",
    "    ret = []\n",
    "    with open(path) as f:\n",
    "        for line in f:\n",
    "            ret.append(json.loads(line))\n",
    "    return ret\n",
    "\n",
    "for path in glob(\"sampled_data/*.jsonl\"):\n",
    "    questions = read_jsonl(path)\n",
    "    for i, q in enumerate(questions):\n",
    "        if i % 2 == 0 and q[\"answerKey\"] == \"A\":\n",
    "            q[\"question\"][\"choices\"] = q[\"question\"][\"choices\"][::-1]\n",
    "            q[\"answerKey\"] = \"B\"\n",
    "        if i % 2 == 1 and q[\"answerKey\"] == \"B\":\n",
    "            q[\"question\"][\"choices\"] = q[\"question\"][\"choices\"][::-1]\n",
    "            q[\"answerKey\"] = \"A\"\n",
    "        \n",
    "        q[\"question\"][\"choices\"][0][\"label\"] = \"A\"\n",
    "        q[\"question\"][\"choices\"][1][\"label\"] = \"B\""
   ]
  }
 ],
 "metadata": {
  "language_info": {
   "name": "python"
  },
  "orig_nbformat": 4
 },
 "nbformat": 4,
 "nbformat_minor": 2
}
